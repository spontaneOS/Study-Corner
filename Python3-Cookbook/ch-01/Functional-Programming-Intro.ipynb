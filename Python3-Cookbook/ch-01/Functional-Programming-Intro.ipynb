{
 "cells": [
  {
   "cell_type": "markdown",
   "metadata": {},
   "source": [
    "### Functional Programming in Python\n",
    "https://julien.danjou.info/python-and-functional-programming/"
   ]
  },
  {
   "cell_type": "markdown",
   "metadata": {},
   "source": [
    "The **map()** function takes the form map(function, iterable) and applies function to each item in iterable to return an iterable map object."
   ]
  },
  {
   "cell_type": "code",
   "execution_count": 3,
   "metadata": {},
   "outputs": [
    {
     "name": "stdout",
     "output_type": "stream",
     "text": [
      "<map object at 0x0000018CCDECE1D0>\n",
      "['Hi bzzzz!', 'Hello bzzzz!']\n"
     ]
    }
   ],
   "source": [
    "str = \" bzzzz!\"\n",
    "m = map(lambda x: x + str, [\"Hi\", \"Hello\"])\n",
    "print(m)\n",
    "print(list(m))"
   ]
  },
  {
   "cell_type": "markdown",
   "metadata": {},
   "source": [
    "The **filter()** function takes the form filter(function or None, iterable) and filters the items in iterable based on the result returned by function. This will return iterable filter object."
   ]
  },
  {
   "cell_type": "code",
   "execution_count": 5,
   "metadata": {},
   "outputs": [
    {
     "name": "stdout",
     "output_type": "stream",
     "text": [
      "<filter object at 0x0000018CCDECE668>\n",
      "['Hi', 'Hello']\n"
     ]
    }
   ],
   "source": [
    "str = \"H\"\n",
    "f = filter(lambda x:x.startswith(str), [\"Hi\", \"There\", \"Hello\"])\n",
    "print(f)\n",
    "print(list(f))"
   ]
  },
  {
   "cell_type": "markdown",
   "metadata": {},
   "source": [
    "The **enumerate()** function takes the form enumerate(iterable[, start]) and returns an iterable object that provides a sequence of tuples, each consisting of an integer index (starting with start, if provided) and the corresponding item in iterable. This function is useful when you need to write code that refers to array indexes."
   ]
  },
  {
   "cell_type": "code",
   "execution_count": 8,
   "metadata": {},
   "outputs": [
    {
     "name": "stdout",
     "output_type": "stream",
     "text": [
      "Item 0, a\n",
      "Item 1, b\n",
      "Item 2, c\n",
      "[(0, 'a'), (1, 'b'), (2, 'c')]\n"
     ]
    }
   ],
   "source": [
    "mylist = ['a', 'b', 'c']\n",
    "for i, item in enumerate(mylist):\n",
    "    print(\"Item %d, %s\" % (i, item))\n",
    "print(list(enumerate(mylist)))"
   ]
  },
  {
   "cell_type": "markdown",
   "metadata": {},
   "source": [
    "The **sorted()** function takes the form sorted(iterable, key=None, reverse=False) and returns a sorted version of iterable."
   ]
  },
  {
   "cell_type": "code",
   "execution_count": 11,
   "metadata": {},
   "outputs": [
    {
     "name": "stdout",
     "output_type": "stream",
     "text": [
      "[('a', 5), ('b', 2), ('c', 0)]\n",
      "[('c', 0), ('b', 2), ('a', 5)]\n"
     ]
    }
   ],
   "source": [
    "alist = [('a', 5),('b', 2),('c', 0)]\n",
    "print(sorted(alist))\n",
    "print(sorted(alist, key=lambda x:x[1]))"
   ]
  },
  {
   "cell_type": "code",
   "execution_count": null,
   "metadata": {},
   "outputs": [],
   "source": []
  }
 ],
 "metadata": {
  "kernelspec": {
   "display_name": "Python 3",
   "language": "python",
   "name": "python3"
  },
  "language_info": {
   "codemirror_mode": {
    "name": "ipython",
    "version": 3
   },
   "file_extension": ".py",
   "mimetype": "text/x-python",
   "name": "python",
   "nbconvert_exporter": "python",
   "pygments_lexer": "ipython3",
   "version": "3.7.1"
  }
 },
 "nbformat": 4,
 "nbformat_minor": 2
}
